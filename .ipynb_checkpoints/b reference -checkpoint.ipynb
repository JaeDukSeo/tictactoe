{
 "cells": [
  {
   "cell_type": "code",
   "execution_count": 11,
   "metadata": {
    "code_folding": [
     28
    ]
   },
   "outputs": [],
   "source": [
    "# import library\n",
    "import numpy as np\n",
    "np.random.seed(678)\n",
    "\n",
    "class Agent():\n",
    "    \n",
    "    def __init__(self,move_value):\n",
    "        assert(move_value==1 or move_value==-1)\n",
    "        self.move_value = move_value\n",
    "        self.all_state = dict()\n",
    "    \n",
    "    def state(self,current_state):\n",
    "        if str(current_state) in self.value:\n",
    "            pass\n",
    "        else: \n",
    "            self.value[str(current_state)] = 0\n",
    "\n",
    "    def action(self,observation):\n",
    "        \n",
    "        if observation in self.all_state:\n",
    "            action = self.all_state['next_move']\n",
    "        return action\n",
    "\n",
    "class Environment():\n",
    "    \n",
    "    def __init__(self):\n",
    "        self.board = np.zeros((3,3))\n",
    "    \n",
    "    # Def: Check if there is any winner\n",
    "    def check_winner(self):\n",
    "        \n",
    "        # ======== Check Winner By One Row ========         \n",
    "        for row in self.board:\n",
    "            if sum(row) == 3: return 1\n",
    "            if sum(row) ==-3: return -1 \n",
    "            \n",
    "        for row in np.transpose(self.board):\n",
    "            if sum(row) == 3: return 1\n",
    "            if sum(row) ==-3: return -1 \n",
    "        # ======== Check Winner By One Row ========         \n",
    "\n",
    "                    \n",
    "        # ======== Check Winner By Diag ========         \n",
    "        if sum([self.board[i][i] for i in range(len(self.board))]) == 3:  return 1\n",
    "        if sum([self.board[i][i] for i in range(len(self.board))]) == -3: return -1\n",
    "        if sum([self.board[i][len(self.board)-i-1] for i in range(len(self.board))]) == 3: return  1       \n",
    "        if sum([self.board[i][len(self.board)-i-1] for i in range(len(self.board))]) == -3:return -1  \n",
    "        # ======== Check Winner By Diag ========         \n",
    "\n",
    "        # ======== Check Draw ========         \n",
    "        if abs(self.board).sum() == 9: return 0\n",
    "        # ======== Check Draw ========         \n",
    "            \n",
    "    # Def: Check if there is a winner\n",
    "    def check_if_there_is_winner(self): return self.check_winner()\n",
    "    \n",
    "    # change the borad position - location and value.      \n",
    "    def make_a_move(self,position,value):\n",
    "        assert (value == 1 or value == -1)\n",
    "        assert (self.board.ravel()[position] == 0)\n",
    "        self.board.ravel()[position] = value\n",
    "    \n",
    "    # Reset the board back the starting position.     \n",
    "    def reset_game(self): self.board = np.zeros((3,3))\n",
    "        \n",
    "    # View the current state of the board\n",
    "    def get_board(self): return self.board"
   ]
  },
  {
   "cell_type": "code",
   "execution_count": 12,
   "metadata": {},
   "outputs": [],
   "source": [
    "# declare an agent and env\n",
    "env = Environment()\n",
    "agent1 = Agent(-1)\n",
    "agent2 = Agent(1)"
   ]
  },
  {
   "cell_type": "code",
   "execution_count": null,
   "metadata": {},
   "outputs": [],
   "source": []
  },
  {
   "cell_type": "code",
   "execution_count": 5,
   "metadata": {},
   "outputs": [
    {
     "name": "stdout",
     "output_type": "stream",
     "text": [
      "[[-1.  1.  0.]\n",
      " [ 0.  0.  0.]\n",
      " [ 0.  0.  1.]]\n",
      "None\n",
      "[[-1.  1. -1.]\n",
      " [ 1.  1. -1.]\n",
      " [-1. -1.  1.]]\n",
      "0\n"
     ]
    }
   ],
   "source": [
    "temp = Environment()\n",
    "temp.make_a_move(0,-1)\n",
    "temp.make_a_move(1,1)\n",
    "temp.make_a_move(8,1)\n",
    "print(temp.get_board())\n",
    "print(temp.check_if_there_is_winner())\n",
    "temp.make_a_move(2,-1)\n",
    "temp.make_a_move(4,1)\n",
    "temp.make_a_move(5,-1)\n",
    "temp.make_a_move(3,1)\n",
    "temp.make_a_move(7,-1)\n",
    "temp.make_a_move(6,-1)\n",
    "print(temp.get_board())\n",
    "print(temp.check_if_there_is_winner())"
   ]
  },
  {
   "cell_type": "code",
   "execution_count": 115,
   "metadata": {},
   "outputs": [
    {
     "data": {
      "text/plain": [
       "{'[[-1.  1. -1.]\\n [ 1.  1. -1.]\\n [-1. -1.  1.]]': 4}"
      ]
     },
     "execution_count": 115,
     "metadata": {},
     "output_type": "execute_result"
    }
   ],
   "source": [
    "temp_dict = dict()\n",
    "temp_dict[str(temp.get_board())] = 4\n",
    "temp_dict"
   ]
  },
  {
   "cell_type": "code",
   "execution_count": 117,
   "metadata": {},
   "outputs": [],
   "source": [
    "from collections import defaultdict\n",
    "def tree(): return defaultdict(tree)\n",
    "users = tree()\n",
    "users['harold']['username'] = 'hrldcpr'\n",
    "users['handler']['username'] = 'matthandlersux'"
   ]
  },
  {
   "cell_type": "code",
   "execution_count": 118,
   "metadata": {},
   "outputs": [
    {
     "data": {
      "text/plain": [
       "defaultdict(<function __main__.tree()>,\n",
       "            {'harold': defaultdict(<function __main__.tree()>,\n",
       "                         {'username': 'hrldcpr'}),\n",
       "             'handler': defaultdict(<function __main__.tree()>,\n",
       "                         {'username': 'matthandlersux'})})"
      ]
     },
     "execution_count": 118,
     "metadata": {},
     "output_type": "execute_result"
    }
   ],
   "source": [
    "users"
   ]
  },
  {
   "cell_type": "code",
   "execution_count": null,
   "metadata": {},
   "outputs": [],
   "source": []
  },
  {
   "cell_type": "code",
   "execution_count": null,
   "metadata": {},
   "outputs": [],
   "source": []
  },
  {
   "cell_type": "code",
   "execution_count": null,
   "metadata": {},
   "outputs": [],
   "source": []
  },
  {
   "cell_type": "code",
   "execution_count": 21,
   "metadata": {
    "code_folding": []
   },
   "outputs": [
    {
     "name": "stdout",
     "output_type": "stream",
     "text": [
      "Tic tac toe - Place game piece using notation g(i,j), i being the row and j being the column\n",
      "I.e. g(1,2) places a game piece in the first row, second column.\n",
      "Write g.selfplay(1000) to have the learner play against itself a 1000 times.\n",
      "** New Game **\n"
     ]
    },
    {
     "ename": "NameError",
     "evalue": "name 'xrange' is not defined",
     "output_type": "error",
     "traceback": [
      "\u001b[0;31m---------------------------------------------------------------------------\u001b[0m",
      "\u001b[0;31mNameError\u001b[0m                                 Traceback (most recent call last)",
      "\u001b[0;32m<ipython-input-21-e2edda0c7296>\u001b[0m in \u001b[0;36m<module>\u001b[0;34m\u001b[0m\n\u001b[1;32m    173\u001b[0m     \u001b[0mprint\u001b[0m\u001b[0;34m(\u001b[0m\u001b[0;34m\"I.e. g(1,2) places a game piece in the first row, second column.\"\u001b[0m\u001b[0;34m)\u001b[0m\u001b[0;34m\u001b[0m\u001b[0;34m\u001b[0m\u001b[0m\n\u001b[1;32m    174\u001b[0m     \u001b[0mprint\u001b[0m\u001b[0;34m(\u001b[0m\u001b[0;34m\"Write g.selfplay(1000) to have the learner play against itself a 1000 times.\"\u001b[0m\u001b[0;34m)\u001b[0m\u001b[0;34m\u001b[0m\u001b[0;34m\u001b[0m\u001b[0m\n\u001b[0;32m--> 175\u001b[0;31m     \u001b[0mg\u001b[0m \u001b[0;34m=\u001b[0m \u001b[0mGame\u001b[0m\u001b[0;34m(\u001b[0m\u001b[0;34m)\u001b[0m\u001b[0;34m\u001b[0m\u001b[0;34m\u001b[0m\u001b[0m\n\u001b[0m",
      "\u001b[0;32m<ipython-input-21-e2edda0c7296>\u001b[0m in \u001b[0;36m__init__\u001b[0;34m(s)\u001b[0m\n\u001b[1;32m    100\u001b[0m     \u001b[0;32mdef\u001b[0m \u001b[0m__init__\u001b[0m\u001b[0;34m(\u001b[0m\u001b[0ms\u001b[0m\u001b[0;34m)\u001b[0m\u001b[0;34m:\u001b[0m\u001b[0;34m\u001b[0m\u001b[0;34m\u001b[0m\u001b[0m\n\u001b[1;32m    101\u001b[0m         \u001b[0ms\u001b[0m\u001b[0;34m.\u001b[0m\u001b[0mlearner\u001b[0m \u001b[0;34m=\u001b[0m \u001b[0mLearner\u001b[0m\u001b[0;34m(\u001b[0m\u001b[0mplayer\u001b[0m\u001b[0;34m=\u001b[0m\u001b[0;36m2\u001b[0m\u001b[0;34m)\u001b[0m\u001b[0;34m\u001b[0m\u001b[0;34m\u001b[0m\u001b[0m\n\u001b[0;32m--> 102\u001b[0;31m         \u001b[0ms\u001b[0m\u001b[0;34m.\u001b[0m\u001b[0mreset\u001b[0m\u001b[0;34m(\u001b[0m\u001b[0;34m)\u001b[0m\u001b[0;34m\u001b[0m\u001b[0;34m\u001b[0m\u001b[0m\n\u001b[0m\u001b[1;32m    103\u001b[0m         \u001b[0ms\u001b[0m\u001b[0;34m.\u001b[0m\u001b[0msp\u001b[0m \u001b[0;34m=\u001b[0m \u001b[0mSelfplay\u001b[0m\u001b[0;34m(\u001b[0m\u001b[0ms\u001b[0m\u001b[0;34m.\u001b[0m\u001b[0mlearner\u001b[0m\u001b[0;34m)\u001b[0m\u001b[0;34m\u001b[0m\u001b[0;34m\u001b[0m\u001b[0m\n\u001b[1;32m    104\u001b[0m \u001b[0;34m\u001b[0m\u001b[0m\n",
      "\u001b[0;32m<ipython-input-21-e2edda0c7296>\u001b[0m in \u001b[0;36mreset\u001b[0;34m(s)\u001b[0m\n\u001b[1;32m    107\u001b[0m         \u001b[0ms\u001b[0m\u001b[0;34m.\u001b[0m\u001b[0mlearner\u001b[0m\u001b[0;34m.\u001b[0m\u001b[0mreset\u001b[0m\u001b[0;34m(\u001b[0m\u001b[0;34m)\u001b[0m\u001b[0;34m\u001b[0m\u001b[0;34m\u001b[0m\u001b[0m\n\u001b[1;32m    108\u001b[0m         \u001b[0mprint\u001b[0m\u001b[0;34m(\u001b[0m\u001b[0;34m\"** New Game **\"\u001b[0m\u001b[0;34m)\u001b[0m\u001b[0;34m\u001b[0m\u001b[0;34m\u001b[0m\u001b[0m\n\u001b[0;32m--> 109\u001b[0;31m         \u001b[0mprint\u001b[0m\u001b[0;34m(\u001b[0m\u001b[0ms\u001b[0m\u001b[0;34m.\u001b[0m\u001b[0mstate\u001b[0m\u001b[0;34m)\u001b[0m\u001b[0;34m\u001b[0m\u001b[0;34m\u001b[0m\u001b[0m\n\u001b[0m\u001b[1;32m    110\u001b[0m \u001b[0;34m\u001b[0m\u001b[0m\n\u001b[1;32m    111\u001b[0m     \u001b[0;32mdef\u001b[0m \u001b[0m__call__\u001b[0m\u001b[0;34m(\u001b[0m\u001b[0ms\u001b[0m\u001b[0;34m,\u001b[0m \u001b[0mpi\u001b[0m\u001b[0;34m,\u001b[0m\u001b[0mpj\u001b[0m\u001b[0;34m)\u001b[0m\u001b[0;34m:\u001b[0m\u001b[0;34m\u001b[0m\u001b[0;34m\u001b[0m\u001b[0m\n",
      "\u001b[0;32m<ipython-input-21-e2edda0c7296>\u001b[0m in \u001b[0;36m__str__\u001b[0;34m(s)\u001b[0m\n\u001b[1;32m     27\u001b[0m     \u001b[0;32mdef\u001b[0m \u001b[0m__str__\u001b[0m\u001b[0;34m(\u001b[0m\u001b[0ms\u001b[0m\u001b[0;34m)\u001b[0m\u001b[0;34m:\u001b[0m\u001b[0;34m\u001b[0m\u001b[0;34m\u001b[0m\u001b[0m\n\u001b[1;32m     28\u001b[0m         \u001b[0mout\u001b[0m \u001b[0;34m=\u001b[0m \u001b[0;34m[\u001b[0m\u001b[0;34m\"\"\u001b[0m\u001b[0;34m]\u001b[0m\u001b[0;34m\u001b[0m\u001b[0;34m\u001b[0m\u001b[0m\n\u001b[0;32m---> 29\u001b[0;31m         \u001b[0;32mfor\u001b[0m \u001b[0mi\u001b[0m \u001b[0;32min\u001b[0m \u001b[0mxrange\u001b[0m\u001b[0;34m(\u001b[0m\u001b[0;36m3\u001b[0m\u001b[0;34m)\u001b[0m\u001b[0;34m:\u001b[0m\u001b[0;34m\u001b[0m\u001b[0;34m\u001b[0m\u001b[0m\n\u001b[0m\u001b[1;32m     30\u001b[0m             \u001b[0;32mfor\u001b[0m \u001b[0mj\u001b[0m \u001b[0;32min\u001b[0m \u001b[0mxrange\u001b[0m\u001b[0;34m(\u001b[0m\u001b[0;36m3\u001b[0m\u001b[0;34m)\u001b[0m\u001b[0;34m:\u001b[0m\u001b[0;34m\u001b[0m\u001b[0;34m\u001b[0m\u001b[0m\n\u001b[1;32m     31\u001b[0m                 \u001b[0mout\u001b[0m\u001b[0;34m.\u001b[0m\u001b[0mappend\u001b[0m\u001b[0;34m(\u001b[0m \u001b[0ms\u001b[0m\u001b[0;34m.\u001b[0m\u001b[0msymbols\u001b[0m\u001b[0;34m[\u001b[0m \u001b[0ms\u001b[0m\u001b[0;34m[\u001b[0m\u001b[0mi\u001b[0m\u001b[0;34m,\u001b[0m\u001b[0mj\u001b[0m\u001b[0;34m]\u001b[0m \u001b[0;34m]\u001b[0m \u001b[0;34m)\u001b[0m\u001b[0;34m\u001b[0m\u001b[0;34m\u001b[0m\u001b[0m\n",
      "\u001b[0;31mNameError\u001b[0m: name 'xrange' is not defined"
     ]
    }
   ],
   "source": [
    "import numpy\n",
    "from random import sample\n",
    "from numpy import diag\n",
    "\n",
    "\n",
    "class State(numpy.ndarray):\n",
    "    symbols = {0: \"_\", 1: \"X\", 2: \"O\"}\n",
    "    \n",
    "    def __new__(subtype):\n",
    "        arr = numpy.zeros((3,3), dtype=numpy.int8)\n",
    "        arr = arr.view(subtype)\n",
    "        return arr\n",
    "\n",
    "    def __hash__(s):\n",
    "        flat = s.ravel()\n",
    "        code = 0\n",
    "        for i in range(9): code += pow(3,i) * flat[i]\n",
    "        return code\n",
    "\n",
    "    def won(s, player):\n",
    "        x = s == player\n",
    "        return numpy.hstack( (x.all(0), x.all(1), diag(x).all(), diag(x[:,::-1]).all()) ).any()\n",
    "\n",
    "    def full(s):\n",
    "        return (s != 0).all()\n",
    "\n",
    "    def __str__(s):\n",
    "        out = [\"\"]\n",
    "        for i in range(3):\n",
    "            for j in range(3):\n",
    "                out.append( s.symbols[ s[i,j] ] )\n",
    "            out.append(\"\\n\")\n",
    "        return str(\" \").join(out)\n",
    "        \n",
    "class Learner:\n",
    "    def __init__(s, player):\n",
    "        s.valuefunc = dict()\n",
    "        s.laststate_hash = None\n",
    "        s.alpha = 0.9\n",
    "        s.player = player\n",
    "        s.gamehist = []\n",
    "        s.traced = False\n",
    "       \n",
    "    def enum_actions(s, state):\n",
    "        res = list()\n",
    "        for i in xrange(3):\n",
    "            for j in xrange(3):\n",
    "                if state[i,j] == 0:\n",
    "                    res.append( (i,j) )\n",
    "        return res\n",
    "\n",
    "    def value(s, state, action):\n",
    "        \"Assumption: Game has not been won by other player\"\n",
    "        state[action] = s.player\n",
    "        hashval = hash(state)\n",
    "        val = s.valuefunc.get( hashval )\n",
    "        if val == None:\n",
    "            if state.won(s.player): val = 1.0\n",
    "            elif state.full(): val = 0.0\n",
    "            else: val = 0.1\n",
    "            s.valuefunc[hashval] = val\n",
    "        state[action] = 0\n",
    "        return val\n",
    "        \n",
    "    def next_action(s, state):\n",
    "        valuemap = list()\n",
    "        for action in s.enum_actions(state):\n",
    "            val = s.value(state, action)\n",
    "            valuemap.append( (val, action) )\n",
    "        valuemap.sort(key=lambda x:x[0], reverse=True)\n",
    "        maxval = valuemap[0][0]\n",
    "        valuemap = filter(lambda x: x[0] >= maxval, valuemap)\n",
    "        \n",
    "        return sample(valuemap,1)[0]\n",
    "\n",
    "    def next(s, state):\n",
    "        if state.won(3-s.player):\n",
    "            val = -1\n",
    "        elif state.full():\n",
    "            val = -0.1\n",
    "        else:\n",
    "            (val, action) = s.next_action(state)\n",
    "            state[action] = s.player\n",
    "\n",
    "        if state.won(1) or state.won(2) or state.full():\n",
    "            s.traced = True\n",
    "            \n",
    "        #learning step\n",
    "        if s.laststate_hash != None:\n",
    "            s.valuefunc[s.laststate_hash] = (1.0-s.alpha) * s.valuefunc[s.laststate_hash] + s.alpha * val\n",
    "        s.laststate_hash = hash(state)\n",
    "        s.gamehist.append(s.laststate_hash)\n",
    "        \n",
    "    def reset(s):\n",
    "        s.laststate_hash = None\n",
    "        s.gamehist = []\n",
    "        s.traced = False\n",
    "                        \n",
    "class Game:\n",
    "    def __init__(s):\n",
    "        s.learner = Learner(player=2)\n",
    "        s.reset()\n",
    "        s.sp = Selfplay(s.learner)\n",
    "        \n",
    "    def reset(s):\n",
    "        s.state = State()\n",
    "        s.learner.reset()\n",
    "        print(\"** New Game **\")\n",
    "        print(s.state)\n",
    "\n",
    "    def __call__(s, pi,pj):\n",
    "        j = pi -1\n",
    "        i = pj - 1\n",
    "        if s.state[j,i] == 0:\n",
    "            s.state[j,i] = 1\n",
    "            s.learner.next(s.state)\n",
    "        else:\n",
    "            print(\"Invalid move\")\n",
    "\n",
    "        if s.state.full() or s.state.won(1) or s.state.won(2):\n",
    "            if s.state.won(1):\n",
    "                print(\"You WIN\")\n",
    "            elif s.state.won(2):\n",
    "                print(\"You LOOSE\")\n",
    "            else:\n",
    "                print(\"DRAW Game\")\n",
    "            s.reset()\n",
    "\n",
    "    def selfplay(s, n=1000):\n",
    "        for i in range(n):\n",
    "            s.sp.play()\n",
    "        s.reset()\n",
    "\n",
    "    def save(s):\n",
    "        cPickle.dump(s.learner, open(\"learn.dat\", \"w\"))\n",
    "\n",
    "    def load(s):\n",
    "        s.learner = cPickle.load( open(\"learn.dat\") )\n",
    "        s.sp = Selfplay(s.learner)\n",
    "        s.reset()\n",
    "             \n",
    "class Selfplay:\n",
    "    def __init__(s, learner = None):\n",
    "        if learner == None:\n",
    "            s.learner = Learner(player=2)\n",
    "        else:\n",
    "            s.learner = learner\n",
    "        s.other = Learner(player=1)\n",
    "        s.i = 0\n",
    "\n",
    "    def reset(s):\n",
    "        s.state = State()\n",
    "        s.learner.reset()\n",
    "        s.other.reset()\n",
    "\n",
    "    def play(s):\n",
    "        s.reset()\n",
    "        while True:\n",
    "            s.other.next(s.state)    \n",
    "            s.learner.next(s.state)\n",
    "            if s.state.full() or s.state.won(1) or s.state.won(2):\n",
    "                s.i += 1\n",
    "                if s.i % 100 == 0:\n",
    "                    print(s.state) #hash(s.state)\n",
    "                    \n",
    "                if not s.other.traced:\n",
    "                    s.other.next(s.state)\n",
    "                break\n",
    "\n",
    "\n",
    "if __name__ == \"__main__\":\n",
    "    print(\"Tic tac toe - Place game piece using notation g(i,j), i being the row and j being the column\")\n",
    "    print(\"I.e. g(1,2) places a game piece in the first row, second column.\")\n",
    "    print(\"Write g.selfplay(1000) to have the learner play against itself a 1000 times.\")\n",
    "    g = Game()"
   ]
  },
  {
   "cell_type": "code",
   "execution_count": null,
   "metadata": {},
   "outputs": [],
   "source": []
  },
  {
   "cell_type": "code",
   "execution_count": null,
   "metadata": {},
   "outputs": [],
   "source": []
  },
  {
   "cell_type": "code",
   "execution_count": null,
   "metadata": {},
   "outputs": [],
   "source": []
  },
  {
   "cell_type": "code",
   "execution_count": null,
   "metadata": {},
   "outputs": [],
   "source": []
  },
  {
   "cell_type": "code",
   "execution_count": null,
   "metadata": {},
   "outputs": [],
   "source": []
  },
  {
   "cell_type": "code",
   "execution_count": null,
   "metadata": {},
   "outputs": [],
   "source": []
  },
  {
   "cell_type": "code",
   "execution_count": null,
   "metadata": {},
   "outputs": [],
   "source": []
  },
  {
   "cell_type": "code",
   "execution_count": null,
   "metadata": {},
   "outputs": [],
   "source": []
  },
  {
   "cell_type": "code",
   "execution_count": null,
   "metadata": {},
   "outputs": [],
   "source": []
  },
  {
   "cell_type": "code",
   "execution_count": null,
   "metadata": {},
   "outputs": [],
   "source": []
  },
  {
   "cell_type": "code",
   "execution_count": 119,
   "metadata": {},
   "outputs": [
    {
     "name": "stdout",
     "output_type": "stream",
     "text": [
      "[master 4ab60dc] commit\n",
      " 2 files changed, 58 insertions(+), 76 deletions(-)\n",
      "Counting objects: 4, done.\n",
      "Delta compression using up to 4 threads.\n",
      "Compressing objects: 100% (4/4), done.\n",
      "Writing objects: 100% (4/4), 858 bytes | 858.00 KiB/s, done.\n",
      "Total 4 (delta 3), reused 0 (delta 0)\n",
      "remote: Resolving deltas: 100% (3/3), completed with 3 local objects.\u001b[K\n",
      "To https://github.com/JaeDukSeo/tictactoe.git\n",
      "   d0ab822..4ab60dc  master -> master\n"
     ]
    }
   ],
   "source": [
    "! git all-go"
   ]
  },
  {
   "cell_type": "code",
   "execution_count": 124,
   "metadata": {
    "code_folding": []
   },
   "outputs": [],
   "source": []
  },
  {
   "cell_type": "code",
   "execution_count": null,
   "metadata": {},
   "outputs": [],
   "source": []
  },
  {
   "cell_type": "code",
   "execution_count": null,
   "metadata": {},
   "outputs": [],
   "source": []
  },
  {
   "cell_type": "code",
   "execution_count": null,
   "metadata": {},
   "outputs": [],
   "source": []
  },
  {
   "cell_type": "code",
   "execution_count": null,
   "metadata": {},
   "outputs": [],
   "source": []
  },
  {
   "cell_type": "code",
   "execution_count": null,
   "metadata": {},
   "outputs": [],
   "source": []
  }
 ],
 "metadata": {
  "kernelspec": {
   "display_name": "Python 3",
   "language": "python",
   "name": "python3"
  },
  "language_info": {
   "codemirror_mode": {
    "name": "ipython",
    "version": 3
   },
   "file_extension": ".py",
   "mimetype": "text/x-python",
   "name": "python",
   "nbconvert_exporter": "python",
   "pygments_lexer": "ipython3",
   "version": "3.6.8"
  },
  "latex_envs": {
   "LaTeX_envs_menu_present": true,
   "autoclose": false,
   "autocomplete": true,
   "bibliofile": "biblio.bib",
   "cite_by": "apalike",
   "current_citInitial": 1,
   "eqLabelWithNumbers": true,
   "eqNumInitial": 1,
   "hotkeys": {
    "equation": "Ctrl-E",
    "itemize": "Ctrl-I"
   },
   "labels_anchors": false,
   "latex_user_defs": false,
   "report_style_numbering": false,
   "user_envs_cfg": false
  },
  "toc": {
   "base_numbering": 1,
   "nav_menu": {},
   "number_sections": true,
   "sideBar": true,
   "skip_h1_title": false,
   "title_cell": "Table of Contents",
   "title_sidebar": "Contents",
   "toc_cell": false,
   "toc_position": {},
   "toc_section_display": true,
   "toc_window_display": false
  }
 },
 "nbformat": 4,
 "nbformat_minor": 2
}
