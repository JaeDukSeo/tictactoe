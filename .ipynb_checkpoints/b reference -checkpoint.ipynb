{
 "cells": [
  {
   "cell_type": "code",
   "execution_count": 82,
   "metadata": {
    "code_folding": []
   },
   "outputs": [],
   "source": [
    "# import numpy as np\n",
    "import pickle\n",
    "\n",
    "class Agent():\n",
    "    \n",
    "    def __init__(self,move_value):\n",
    "        self.move_value = move_value\n",
    "        self.value = dict()\n",
    "    \n",
    "    def state(self,current_state):\n",
    "        if str(current_state) in self.value:\n",
    "            pass\n",
    "        else: \n",
    "            self.value[str(current_state)] = 0\n",
    "\n",
    "    def action(self):\n",
    "        pass\n",
    "    def reward(self):\n",
    "        pass\n",
    "\n",
    "class Environment():\n",
    "    \n",
    "    def __init__(self):\n",
    "        self.board = np.zeros((3,3))\n",
    "    \n",
    "    # Def: Check if there is any winner\n",
    "    def check_winner(self):\n",
    "        \n",
    "        # ======== Check Winner By One Row ========         \n",
    "        for row in self.board:\n",
    "            if sum(row) == 3: return 1\n",
    "            if sum(row) ==-3: return -1 \n",
    "            \n",
    "        for row in np.transpose(self.board):\n",
    "            if sum(row) == 3: return 1\n",
    "            if sum(row) ==-3: return -1 \n",
    "        # ======== Check Winner By One Row ========         \n",
    "\n",
    "                    \n",
    "        # ======== Check Winner By Diag ========         \n",
    "        if sum([self.board[i][i] for i in range(len(self.board))]) == 3:  return 1\n",
    "        if sum([self.board[i][i] for i in range(len(self.board))]) == -3: return -1\n",
    "        if sum([self.board[i][len(self.board)-i-1] for i in range(len(self.board))]) == 3: return  1       \n",
    "        if sum([self.board[i][len(self.board)-i-1] for i in range(len(self.board))]) == -3:return -1  \n",
    "        # ======== Check Winner By Diag ========         \n",
    "\n",
    "        # ======== Check Draw ========         \n",
    "        if abs(self.board).sum() == 9: return 0\n",
    "        # ======== Check Draw ========         \n",
    "            \n",
    "    # Def: Check if there is a winner\n",
    "    def check_if_there_is_winner(self): return self.check_winner()\n",
    "    \n",
    "    # change the borad position - location and value.      \n",
    "    def make_a_move(self,position,value):\n",
    "        assert (value == 1 or value == -1)\n",
    "        assert (self.board.ravel()[position] == 0)\n",
    "        self.board.ravel()[position] = value\n",
    "    \n",
    "    # Reset the board back the starting position.     \n",
    "    def reset_game(self): self.board = np.zeros((3,3))\n",
    "        \n",
    "    # View the current state of the board\n",
    "    def get_board(self): return self.board"
   ]
  },
  {
   "cell_type": "code",
   "execution_count": 96,
   "metadata": {},
   "outputs": [
    {
     "name": "stdout",
     "output_type": "stream",
     "text": [
      "[[-1.  1.  0.]\n",
      " [ 0.  0.  0.]\n",
      " [ 0.  0.  1.]]\n",
      "None\n",
      "[[-1.  1. -1.]\n",
      " [ 1.  1. -1.]\n",
      " [-1. -1.  1.]]\n",
      "0\n"
     ]
    }
   ],
   "source": [
    "temp = Environment()\n",
    "temp.make_a_move(0,-1)\n",
    "temp.make_a_move(1,1)\n",
    "temp.make_a_move(8,1)\n",
    "print(temp.get_board())\n",
    "print(temp.check_if_there_is_winner())\n",
    "temp.make_a_move(2,-1)\n",
    "temp.make_a_move(4,1)\n",
    "temp.make_a_move(5,-1)\n",
    "temp.make_a_move(3,1)\n",
    "temp.make_a_move(7,-1)\n",
    "temp.make_a_move(6,-1)\n",
    "print(temp.get_board())\n",
    "print(temp.check_if_there_is_winner())\n"
   ]
  },
  {
   "cell_type": "code",
   "execution_count": 62,
   "metadata": {},
   "outputs": [
    {
     "data": {
      "text/plain": [
       "{'[[ 1.  1.  1.]\\n [ 0.  0.  0.]\\n [ 0.  0. -1.]]': 4}"
      ]
     },
     "execution_count": 62,
     "metadata": {},
     "output_type": "execute_result"
    }
   ],
   "source": [
    "temp_dict = dict()\n",
    "temp_dict[str(temp.get_board())] = 4\n",
    "temp_dict"
   ]
  },
  {
   "cell_type": "code",
   "execution_count": 71,
   "metadata": {},
   "outputs": [
    {
     "ename": "AssertionError",
     "evalue": "",
     "output_type": "error",
     "traceback": [
      "\u001b[0;31m---------------------------------------------------------------------------\u001b[0m",
      "\u001b[0;31mAssertionError\u001b[0m                            Traceback (most recent call last)",
      "\u001b[0;32m<ipython-input-71-7d2030d84534>\u001b[0m in \u001b[0;36m<module>\u001b[0;34m\u001b[0m\n\u001b[1;32m      1\u001b[0m \u001b[0mtemp\u001b[0m\u001b[0;34m.\u001b[0m\u001b[0mmake_a_move\u001b[0m\u001b[0;34m(\u001b[0m\u001b[0;36m4\u001b[0m\u001b[0;34m,\u001b[0m\u001b[0;36m1\u001b[0m\u001b[0;34m)\u001b[0m\u001b[0;34m\u001b[0m\u001b[0;34m\u001b[0m\u001b[0m\n\u001b[0;32m----> 2\u001b[0;31m \u001b[0mtemp\u001b[0m\u001b[0;34m.\u001b[0m\u001b[0mmake_a_move\u001b[0m\u001b[0;34m(\u001b[0m\u001b[0;36m4\u001b[0m\u001b[0;34m,\u001b[0m\u001b[0;36m1\u001b[0m\u001b[0;34m)\u001b[0m\u001b[0;34m\u001b[0m\u001b[0;34m\u001b[0m\u001b[0m\n\u001b[0m",
      "\u001b[0;32m<ipython-input-69-fc29d4455630>\u001b[0m in \u001b[0;36mmake_a_move\u001b[0;34m(self, position, value)\u001b[0m\n\u001b[1;32m     41\u001b[0m     \u001b[0;32mdef\u001b[0m \u001b[0mmake_a_move\u001b[0m\u001b[0;34m(\u001b[0m\u001b[0mself\u001b[0m\u001b[0;34m,\u001b[0m\u001b[0mposition\u001b[0m\u001b[0;34m,\u001b[0m\u001b[0mvalue\u001b[0m\u001b[0;34m)\u001b[0m\u001b[0;34m:\u001b[0m\u001b[0;34m\u001b[0m\u001b[0;34m\u001b[0m\u001b[0m\n\u001b[1;32m     42\u001b[0m         \u001b[0;32massert\u001b[0m \u001b[0;34m(\u001b[0m\u001b[0mvalue\u001b[0m \u001b[0;34m==\u001b[0m \u001b[0;36m1\u001b[0m \u001b[0;32mor\u001b[0m \u001b[0mvalue\u001b[0m \u001b[0;34m==\u001b[0m \u001b[0;34m-\u001b[0m\u001b[0;36m1\u001b[0m\u001b[0;34m)\u001b[0m\u001b[0;34m\u001b[0m\u001b[0;34m\u001b[0m\u001b[0m\n\u001b[0;32m---> 43\u001b[0;31m         \u001b[0;32massert\u001b[0m \u001b[0;34m(\u001b[0m\u001b[0mself\u001b[0m\u001b[0;34m.\u001b[0m\u001b[0mboard\u001b[0m\u001b[0;34m.\u001b[0m\u001b[0mravel\u001b[0m\u001b[0;34m(\u001b[0m\u001b[0;34m)\u001b[0m\u001b[0;34m[\u001b[0m\u001b[0mposition\u001b[0m\u001b[0;34m]\u001b[0m \u001b[0;34m==\u001b[0m \u001b[0;36m0\u001b[0m\u001b[0;34m)\u001b[0m\u001b[0;34m\u001b[0m\u001b[0;34m\u001b[0m\u001b[0m\n\u001b[0m\u001b[1;32m     44\u001b[0m         \u001b[0mself\u001b[0m\u001b[0;34m.\u001b[0m\u001b[0mboard\u001b[0m\u001b[0;34m.\u001b[0m\u001b[0mravel\u001b[0m\u001b[0;34m(\u001b[0m\u001b[0;34m)\u001b[0m\u001b[0;34m[\u001b[0m\u001b[0mposition\u001b[0m\u001b[0;34m]\u001b[0m \u001b[0;34m=\u001b[0m \u001b[0mvalue\u001b[0m\u001b[0;34m\u001b[0m\u001b[0;34m\u001b[0m\u001b[0m\n\u001b[1;32m     45\u001b[0m \u001b[0;34m\u001b[0m\u001b[0m\n",
      "\u001b[0;31mAssertionError\u001b[0m: "
     ]
    }
   ],
   "source": [
    "temp.make_a_move(4,1)\n",
    "temp.make_a_move(4,1)"
   ]
  },
  {
   "cell_type": "code",
   "execution_count": 80,
   "metadata": {},
   "outputs": [
    {
     "data": {
      "text/plain": [
       "5.0"
      ]
     },
     "execution_count": 80,
     "metadata": {},
     "output_type": "execute_result"
    }
   ],
   "source": [
    "abs(temp.get_board()).sum()"
   ]
  },
  {
   "cell_type": "code",
   "execution_count": null,
   "metadata": {},
   "outputs": [],
   "source": []
  },
  {
   "cell_type": "code",
   "execution_count": null,
   "metadata": {},
   "outputs": [],
   "source": []
  },
  {
   "cell_type": "code",
   "execution_count": null,
   "metadata": {},
   "outputs": [],
   "source": []
  },
  {
   "cell_type": "code",
   "execution_count": null,
   "metadata": {},
   "outputs": [],
   "source": []
  },
  {
   "cell_type": "code",
   "execution_count": null,
   "metadata": {},
   "outputs": [],
   "source": []
  },
  {
   "cell_type": "code",
   "execution_count": null,
   "metadata": {},
   "outputs": [],
   "source": []
  },
  {
   "cell_type": "code",
   "execution_count": null,
   "metadata": {},
   "outputs": [],
   "source": []
  },
  {
   "cell_type": "code",
   "execution_count": null,
   "metadata": {},
   "outputs": [],
   "source": []
  },
  {
   "cell_type": "code",
   "execution_count": null,
   "metadata": {},
   "outputs": [],
   "source": []
  },
  {
   "cell_type": "code",
   "execution_count": null,
   "metadata": {},
   "outputs": [],
   "source": []
  },
  {
   "cell_type": "code",
   "execution_count": 97,
   "metadata": {},
   "outputs": [
    {
     "name": "stdout",
     "output_type": "stream",
     "text": [
      "[master 475cfa7] commit\n",
      " 2 files changed, 916 insertions(+), 2900 deletions(-)\n",
      " rewrite .ipynb_checkpoints/b reference -checkpoint.ipynb (82%)\n",
      " rewrite b reference .ipynb (82%)\n",
      "Counting objects: 5, done.\n",
      "Delta compression using up to 4 threads.\n",
      "Compressing objects: 100% (5/5), done.\n",
      "Writing objects: 100% (5/5), 1.10 KiB | 1.10 MiB/s, done.\n",
      "Total 5 (delta 4), reused 0 (delta 0)\n",
      "remote: Resolving deltas: 100% (4/4), completed with 3 local objects.\u001b[K\n",
      "To https://github.com/JaeDukSeo/tictactoe.git\n",
      "   3ec61b9..475cfa7  master -> master\n"
     ]
    }
   ],
   "source": [
    "! git all-go"
   ]
  },
  {
   "cell_type": "code",
   "execution_count": 101,
   "metadata": {
    "code_folding": [
     19,
     29
    ]
   },
   "outputs": [
    {
     "name": "stdout",
     "output_type": "stream",
     "text": [
      "5478\n",
      "(<__main__.State object at 0x1118c7f98>, False)\n"
     ]
    }
   ],
   "source": [
    "import numpy as np\n",
    "\n",
    "BOARD_ROWS = 3\n",
    "BOARD_COLS = 3\n",
    "BOARD_SIZE = BOARD_ROWS * BOARD_COLS\n",
    "\n",
    "class State:\n",
    "    \n",
    "    def __init__(self):\n",
    "        # the board is represented by an n * n array,\n",
    "        # 1 represents a chessman of the player who moves first,\n",
    "        # -1 represents a chessman of another player\n",
    "        # 0 represents an empty position\n",
    "        self.data = np.zeros((BOARD_ROWS, BOARD_COLS))\n",
    "        self.winner = None\n",
    "        self.hash_val = None\n",
    "        self.end = None\n",
    "\n",
    "    # compute the hash value for one state, it's unique\n",
    "    def hash(self):\n",
    "        if self.hash_val is None:\n",
    "            self.hash_val = 0\n",
    "            for i in self.data.reshape(BOARD_ROWS * BOARD_COLS):\n",
    "                if i == -1:\n",
    "                    i = 2\n",
    "                self.hash_val = self.hash_val * 3 + i\n",
    "        return int(self.hash_val)\n",
    "\n",
    "    # check whether a player has won the game, or it's a tie\n",
    "    def is_end(self):\n",
    "        if self.end is not None:\n",
    "            return self.end\n",
    "        results = []\n",
    "        # check row\n",
    "        for i in range(0, BOARD_ROWS):\n",
    "            results.append(np.sum(self.data[i, :]))\n",
    "        # check columns\n",
    "        for i in range(0, BOARD_COLS):\n",
    "            results.append(np.sum(self.data[:, i]))\n",
    "\n",
    "        # check diagonals\n",
    "        results.append(0)\n",
    "        for i in range(0, BOARD_ROWS):\n",
    "            results[-1] += self.data[i, i]\n",
    "        results.append(0)\n",
    "        for i in range(0, BOARD_ROWS):\n",
    "            results[-1] += self.data[i, BOARD_ROWS - 1 - i]\n",
    "\n",
    "        for result in results:\n",
    "            if result == 3:\n",
    "                self.winner = 1\n",
    "                self.end = True\n",
    "                return self.end\n",
    "            if result == -3:\n",
    "                self.winner = -1\n",
    "                self.end = True\n",
    "                return self.end\n",
    "\n",
    "        # whether it's a tie\n",
    "        sum = np.sum(np.abs(self.data))\n",
    "        if sum == BOARD_ROWS * BOARD_COLS:\n",
    "            self.winner = 0\n",
    "            self.end = True\n",
    "            return self.end\n",
    "\n",
    "        # game is still going on\n",
    "        self.end = False\n",
    "        return self.end\n",
    "\n",
    "    # @symbol: 1 or -1\n",
    "    # put chessman symbol in position (i, j)\n",
    "    def next_state(self, i, j, symbol):\n",
    "        new_state = State()\n",
    "        new_state.data = np.copy(self.data)\n",
    "        new_state.data[i, j] = symbol\n",
    "        return new_state\n",
    "    \n",
    "    # print the board\n",
    "    def print_state(self):\n",
    "        for i in range(0, BOARD_ROWS):\n",
    "            print('-------------')\n",
    "            out = '| '\n",
    "            for j in range(0, BOARD_COLS):\n",
    "                if self.data[i, j] == 1:\n",
    "                    token = '*'\n",
    "                if self.data[i, j] == 0:\n",
    "                    token = '0'\n",
    "                if self.data[i, j] == -1:\n",
    "                    token = 'x'\n",
    "                out += token + ' | '\n",
    "            print(out)\n",
    "        print('-------------')\n",
    "\n",
    "\n",
    "def get_all_states_impl(current_state, current_symbol, all_states):\n",
    "    for i in range(0, BOARD_ROWS):\n",
    "        for j in range(0, BOARD_COLS):\n",
    "            if current_state.data[i][j] == 0:\n",
    "                newState = current_state.next_state(i, j, current_symbol)\n",
    "                newHash = newState.hash()\n",
    "                if newHash not in all_states.keys():\n",
    "                    isEnd = newState.is_end()\n",
    "                    all_states[newHash] = (newState, isEnd)\n",
    "                    if not isEnd:\n",
    "                        get_all_states_impl(newState, -current_symbol, all_states)\n",
    "\n",
    "def get_all_states():\n",
    "    current_symbol = 1\n",
    "    current_state = State()\n",
    "    all_states = dict()\n",
    "    all_states[current_state.hash()] = (current_state, current_state.is_end())\n",
    "    get_all_states_impl(current_state, current_symbol, all_states)\n",
    "    return all_states\n",
    "\n",
    "# all possible board configurations\n",
    "all_states = get_all_states()\n",
    "print(len(all_states))\n",
    "print(all_states[0])"
   ]
  },
  {
   "cell_type": "code",
   "execution_count": 104,
   "metadata": {},
   "outputs": [
    {
     "name": "stdout",
     "output_type": "stream",
     "text": [
      "<__main__.State object at 0x1113a14a8>\n",
      "0\n"
     ]
    }
   ],
   "source": [
    "current_state = State()\n",
    "print(current_state)\n",
    "print(current_state.hash())"
   ]
  },
  {
   "cell_type": "code",
   "execution_count": null,
   "metadata": {},
   "outputs": [],
   "source": []
  }
 ],
 "metadata": {
  "kernelspec": {
   "display_name": "Python 3",
   "language": "python",
   "name": "python3"
  },
  "language_info": {
   "codemirror_mode": {
    "name": "ipython",
    "version": 3
   },
   "file_extension": ".py",
   "mimetype": "text/x-python",
   "name": "python",
   "nbconvert_exporter": "python",
   "pygments_lexer": "ipython3",
   "version": "3.6.8"
  },
  "latex_envs": {
   "LaTeX_envs_menu_present": true,
   "autoclose": false,
   "autocomplete": true,
   "bibliofile": "biblio.bib",
   "cite_by": "apalike",
   "current_citInitial": 1,
   "eqLabelWithNumbers": true,
   "eqNumInitial": 1,
   "hotkeys": {
    "equation": "Ctrl-E",
    "itemize": "Ctrl-I"
   },
   "labels_anchors": false,
   "latex_user_defs": false,
   "report_style_numbering": false,
   "user_envs_cfg": false
  },
  "toc": {
   "base_numbering": 1,
   "nav_menu": {},
   "number_sections": true,
   "sideBar": true,
   "skip_h1_title": false,
   "title_cell": "Table of Contents",
   "title_sidebar": "Contents",
   "toc_cell": false,
   "toc_position": {},
   "toc_section_display": true,
   "toc_window_display": false
  }
 },
 "nbformat": 4,
 "nbformat_minor": 2
}
