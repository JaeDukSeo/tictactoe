{
 "cells": [
  {
   "cell_type": "code",
   "execution_count": 38,
   "metadata": {
    "code_folding": [
     13
    ]
   },
   "outputs": [],
   "source": [
    "# import numpy as np\n",
    "import pickle\n",
    "\n",
    "class Agent():\n",
    "    \n",
    "    def __init__(self,move_value):\n",
    "        self.move_value = move_value\n",
    "    \n",
    "    def play(self):\n",
    "        pass\n",
    "    \n",
    "    def update(self):\n",
    "        pass\n",
    "\n",
    "class Environment():\n",
    "    \n",
    "    def __init__(self):\n",
    "        self.board = np.zeros((3,3))\n",
    "    \n",
    "    # Def: Check if there is any winner\n",
    "    def check_winner(self):\n",
    "        for row in self.board:\n",
    "            if sum(row) == 3: return 1\n",
    "            if sum(row) ==-3: return -1 \n",
    "            \n",
    "        for row in np.transpose(self.board):\n",
    "            if sum(row) == 3: return 1\n",
    "            if sum(row) ==-3: return -1 \n",
    "            \n",
    "        if sum([self.board[i][i] for i in range(len(self.board))]) == 3:  return 1\n",
    "        if sum([self.board[i][i] for i in range(len(self.board))]) == -3: return -1\n",
    "        if sum([self.board[i][len(self.board)-i-1] for i in range(len(self.board))]) == 3: return  1       \n",
    "        if sum([self.board[i][len(self.board)-i-1] for i in range(len(self.board))]) == -3:return -1        \n",
    "            \n",
    "    # Def: Check if there is a winner\n",
    "    def check_if_there_is_winner(self): return self.check_winner()\n",
    "    \n",
    "    # change the borad position - location and value.      \n",
    "    def make_a_move(self,position,value):\n",
    "        assert (value == 1 or value == -1)\n",
    "        self.board.ravel()[position] = value\n",
    "    \n",
    "    # Reset the board back the starting position.     \n",
    "    def reset_game(self): self.board = np.zeros((3,3))\n",
    "        \n",
    "    # View the current state of the board\n",
    "    def get_board(self): return self.board"
   ]
  },
  {
   "cell_type": "code",
   "execution_count": 44,
   "metadata": {},
   "outputs": [
    {
     "name": "stdout",
     "output_type": "stream",
     "text": [
      "[[ 1.  1.  0.]\n",
      " [ 0.  0.  0.]\n",
      " [ 0.  0. -1.]]\n",
      "None\n",
      "[[ 1.  1.  1.]\n",
      " [ 0.  0.  0.]\n",
      " [ 0.  0. -1.]]\n",
      "1\n"
     ]
    }
   ],
   "source": [
    "temp = Environment()\n",
    "temp.make_a_move(0,1)\n",
    "temp.make_a_move(1,1)\n",
    "temp.make_a_move(8,-1)\n",
    "print(temp.get_board())\n",
    "print(temp.check_if_there_is_winner())\n",
    "temp.make_a_move(2,1)\n",
    "print(temp.get_board())\n",
    "print(temp.check_if_there_is_winner())\n"
   ]
  },
  {
   "cell_type": "code",
   "execution_count": null,
   "metadata": {},
   "outputs": [],
   "source": []
  },
  {
   "cell_type": "code",
   "execution_count": null,
   "metadata": {},
   "outputs": [],
   "source": []
  },
  {
   "cell_type": "code",
   "execution_count": null,
   "metadata": {},
   "outputs": [],
   "source": []
  },
  {
   "cell_type": "code",
   "execution_count": null,
   "metadata": {},
   "outputs": [],
   "source": []
  },
  {
   "cell_type": "code",
   "execution_count": null,
   "metadata": {},
   "outputs": [],
   "source": []
  },
  {
   "cell_type": "code",
   "execution_count": null,
   "metadata": {},
   "outputs": [],
   "source": []
  },
  {
   "cell_type": "code",
   "execution_count": null,
   "metadata": {},
   "outputs": [],
   "source": []
  },
  {
   "cell_type": "code",
   "execution_count": null,
   "metadata": {},
   "outputs": [],
   "source": []
  },
  {
   "cell_type": "code",
   "execution_count": null,
   "metadata": {},
   "outputs": [],
   "source": []
  },
  {
   "cell_type": "code",
   "execution_count": null,
   "metadata": {},
   "outputs": [],
   "source": []
  },
  {
   "cell_type": "code",
   "execution_count": null,
   "metadata": {},
   "outputs": [],
   "source": []
  },
  {
   "cell_type": "code",
   "execution_count": null,
   "metadata": {},
   "outputs": [],
   "source": []
  },
  {
   "cell_type": "code",
   "execution_count": 47,
   "metadata": {},
   "outputs": [
    {
     "name": "stdout",
     "output_type": "stream",
     "text": [
      "On branch master\r\n",
      "Your branch is up to date with 'origin/master'.\r\n",
      "\r\n",
      "nothing to commit, working tree clean\r\n"
     ]
    }
   ],
   "source": [
    "! git all-go"
   ]
  },
  {
   "cell_type": "code",
   "execution_count": null,
   "metadata": {},
   "outputs": [],
   "source": []
  },
  {
   "cell_type": "code",
   "execution_count": null,
   "metadata": {},
   "outputs": [],
   "source": []
  },
  {
   "cell_type": "code",
   "execution_count": null,
   "metadata": {},
   "outputs": [],
   "source": []
  }
 ],
 "metadata": {
  "kernelspec": {
   "display_name": "Python 3",
   "language": "python",
   "name": "python3"
  },
  "language_info": {
   "codemirror_mode": {
    "name": "ipython",
    "version": 3
   },
   "file_extension": ".py",
   "mimetype": "text/x-python",
   "name": "python",
   "nbconvert_exporter": "python",
   "pygments_lexer": "ipython3",
   "version": "3.6.8"
  },
  "latex_envs": {
   "LaTeX_envs_menu_present": true,
   "autoclose": false,
   "autocomplete": true,
   "bibliofile": "biblio.bib",
   "cite_by": "apalike",
   "current_citInitial": 1,
   "eqLabelWithNumbers": true,
   "eqNumInitial": 1,
   "hotkeys": {
    "equation": "Ctrl-E",
    "itemize": "Ctrl-I"
   },
   "labels_anchors": false,
   "latex_user_defs": false,
   "report_style_numbering": false,
   "user_envs_cfg": false
  },
  "toc": {
   "base_numbering": 1,
   "nav_menu": {},
   "number_sections": true,
   "sideBar": true,
   "skip_h1_title": false,
   "title_cell": "Table of Contents",
   "title_sidebar": "Contents",
   "toc_cell": false,
   "toc_position": {},
   "toc_section_display": true,
   "toc_window_display": false
  }
 },
 "nbformat": 4,
 "nbformat_minor": 2
}
