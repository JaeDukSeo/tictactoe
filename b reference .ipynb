{
 "cells": [
  {
   "cell_type": "code",
   "execution_count": 11,
   "metadata": {
    "code_folding": [
     28
    ]
   },
   "outputs": [],
   "source": [
    "# import library\n",
    "import numpy as np\n",
    "np.random.seed(678)\n",
    "\n",
    "class Agent():\n",
    "    \n",
    "    def __init__(self,move_value):\n",
    "        assert(move_value==1 or move_value==-1)\n",
    "        self.move_value = move_value\n",
    "        self.all_state = dict()\n",
    "    \n",
    "    def state(self,current_state):\n",
    "        if str(current_state) in self.value:\n",
    "            pass\n",
    "        else: \n",
    "            self.value[str(current_state)] = 0\n",
    "\n",
    "    def action(self,observation):\n",
    "        \n",
    "        if observation in self.all_state:\n",
    "            action = self.all_state['next_move']\n",
    "        return action\n",
    "\n",
    "class Environment():\n",
    "    \n",
    "    def __init__(self):\n",
    "        self.board = np.zeros((3,3))\n",
    "    \n",
    "    # Def: Check if there is any winner\n",
    "    def check_winner(self):\n",
    "        \n",
    "        # ======== Check Winner By One Row ========         \n",
    "        for row in self.board:\n",
    "            if sum(row) == 3: return 1\n",
    "            if sum(row) ==-3: return -1 \n",
    "            \n",
    "        for row in np.transpose(self.board):\n",
    "            if sum(row) == 3: return 1\n",
    "            if sum(row) ==-3: return -1 \n",
    "        # ======== Check Winner By One Row ========         \n",
    "\n",
    "                    \n",
    "        # ======== Check Winner By Diag ========         \n",
    "        if sum([self.board[i][i] for i in range(len(self.board))]) == 3:  return 1\n",
    "        if sum([self.board[i][i] for i in range(len(self.board))]) == -3: return -1\n",
    "        if sum([self.board[i][len(self.board)-i-1] for i in range(len(self.board))]) == 3: return  1       \n",
    "        if sum([self.board[i][len(self.board)-i-1] for i in range(len(self.board))]) == -3:return -1  \n",
    "        # ======== Check Winner By Diag ========         \n",
    "\n",
    "        # ======== Check Draw ========         \n",
    "        if abs(self.board).sum() == 9: return 0\n",
    "        # ======== Check Draw ========         \n",
    "            \n",
    "    # Def: Check if there is a winner\n",
    "    def check_if_there_is_winner(self): return self.check_winner()\n",
    "    \n",
    "    # change the borad position - location and value.      \n",
    "    def make_a_move(self,position,value):\n",
    "        assert (value == 1 or value == -1)\n",
    "        assert (self.board.ravel()[position] == 0)\n",
    "        self.board.ravel()[position] = value\n",
    "    \n",
    "    # Reset the board back the starting position.     \n",
    "    def reset_game(self): self.board = np.zeros((3,3))\n",
    "        \n",
    "    # View the current state of the board\n",
    "    def get_board(self): return self.board"
   ]
  },
  {
   "cell_type": "code",
   "execution_count": 12,
   "metadata": {},
   "outputs": [],
   "source": [
    "# declare an agent and env\n",
    "env = Environment()\n",
    "agent1 = Agent(-1)\n",
    "agent2 = Agent(1)"
   ]
  },
  {
   "cell_type": "code",
   "execution_count": null,
   "metadata": {},
   "outputs": [],
   "source": []
  },
  {
   "cell_type": "code",
   "execution_count": 5,
   "metadata": {},
   "outputs": [
    {
     "name": "stdout",
     "output_type": "stream",
     "text": [
      "[[-1.  1.  0.]\n",
      " [ 0.  0.  0.]\n",
      " [ 0.  0.  1.]]\n",
      "None\n",
      "[[-1.  1. -1.]\n",
      " [ 1.  1. -1.]\n",
      " [-1. -1.  1.]]\n",
      "0\n"
     ]
    }
   ],
   "source": [
    "temp = Environment()\n",
    "temp.make_a_move(0,-1)\n",
    "temp.make_a_move(1,1)\n",
    "temp.make_a_move(8,1)\n",
    "print(temp.get_board())\n",
    "print(temp.check_if_there_is_winner())\n",
    "temp.make_a_move(2,-1)\n",
    "temp.make_a_move(4,1)\n",
    "temp.make_a_move(5,-1)\n",
    "temp.make_a_move(3,1)\n",
    "temp.make_a_move(7,-1)\n",
    "temp.make_a_move(6,-1)\n",
    "print(temp.get_board())\n",
    "print(temp.check_if_there_is_winner())"
   ]
  },
  {
   "cell_type": "code",
   "execution_count": 115,
   "metadata": {},
   "outputs": [
    {
     "data": {
      "text/plain": [
       "{'[[-1.  1. -1.]\\n [ 1.  1. -1.]\\n [-1. -1.  1.]]': 4}"
      ]
     },
     "execution_count": 115,
     "metadata": {},
     "output_type": "execute_result"
    }
   ],
   "source": [
    "temp_dict = dict()\n",
    "temp_dict[str(temp.get_board())] = 4\n",
    "temp_dict"
   ]
  },
  {
   "cell_type": "code",
   "execution_count": 117,
   "metadata": {},
   "outputs": [],
   "source": [
    "from collections import defaultdict\n",
    "def tree(): return defaultdict(tree)\n",
    "users = tree()\n",
    "users['harold']['username'] = 'hrldcpr'\n",
    "users['handler']['username'] = 'matthandlersux'"
   ]
  },
  {
   "cell_type": "code",
   "execution_count": 118,
   "metadata": {},
   "outputs": [
    {
     "data": {
      "text/plain": [
       "defaultdict(<function __main__.tree()>,\n",
       "            {'harold': defaultdict(<function __main__.tree()>,\n",
       "                         {'username': 'hrldcpr'}),\n",
       "             'handler': defaultdict(<function __main__.tree()>,\n",
       "                         {'username': 'matthandlersux'})})"
      ]
     },
     "execution_count": 118,
     "metadata": {},
     "output_type": "execute_result"
    }
   ],
   "source": [
    "users"
   ]
  },
  {
   "cell_type": "code",
   "execution_count": null,
   "metadata": {},
   "outputs": [],
   "source": []
  },
  {
   "cell_type": "code",
   "execution_count": null,
   "metadata": {},
   "outputs": [],
   "source": []
  },
  {
   "cell_type": "code",
   "execution_count": null,
   "metadata": {},
   "outputs": [],
   "source": []
  },
  {
   "cell_type": "code",
   "execution_count": null,
   "metadata": {
    "code_folding": [
     141
    ]
   },
   "outputs": [],
   "source": []
  },
  {
   "cell_type": "code",
   "execution_count": null,
   "metadata": {},
   "outputs": [],
   "source": []
  },
  {
   "cell_type": "code",
   "execution_count": null,
   "metadata": {},
   "outputs": [],
   "source": []
  },
  {
   "cell_type": "code",
   "execution_count": null,
   "metadata": {},
   "outputs": [],
   "source": []
  },
  {
   "cell_type": "code",
   "execution_count": null,
   "metadata": {},
   "outputs": [],
   "source": []
  },
  {
   "cell_type": "code",
   "execution_count": null,
   "metadata": {},
   "outputs": [],
   "source": []
  },
  {
   "cell_type": "code",
   "execution_count": null,
   "metadata": {},
   "outputs": [],
   "source": []
  },
  {
   "cell_type": "code",
   "execution_count": null,
   "metadata": {},
   "outputs": [],
   "source": []
  },
  {
   "cell_type": "code",
   "execution_count": null,
   "metadata": {},
   "outputs": [],
   "source": []
  },
  {
   "cell_type": "code",
   "execution_count": null,
   "metadata": {},
   "outputs": [],
   "source": []
  },
  {
   "cell_type": "code",
   "execution_count": null,
   "metadata": {},
   "outputs": [],
   "source": []
  },
  {
   "cell_type": "code",
   "execution_count": 119,
   "metadata": {},
   "outputs": [
    {
     "name": "stdout",
     "output_type": "stream",
     "text": [
      "[master 4ab60dc] commit\n",
      " 2 files changed, 58 insertions(+), 76 deletions(-)\n",
      "Counting objects: 4, done.\n",
      "Delta compression using up to 4 threads.\n",
      "Compressing objects: 100% (4/4), done.\n",
      "Writing objects: 100% (4/4), 858 bytes | 858.00 KiB/s, done.\n",
      "Total 4 (delta 3), reused 0 (delta 0)\n",
      "remote: Resolving deltas: 100% (3/3), completed with 3 local objects.\u001b[K\n",
      "To https://github.com/JaeDukSeo/tictactoe.git\n",
      "   d0ab822..4ab60dc  master -> master\n"
     ]
    }
   ],
   "source": [
    "! git all-go"
   ]
  },
  {
   "cell_type": "code",
   "execution_count": 124,
   "metadata": {
    "code_folding": []
   },
   "outputs": [],
   "source": []
  },
  {
   "cell_type": "code",
   "execution_count": null,
   "metadata": {},
   "outputs": [],
   "source": []
  },
  {
   "cell_type": "code",
   "execution_count": null,
   "metadata": {},
   "outputs": [],
   "source": []
  },
  {
   "cell_type": "code",
   "execution_count": null,
   "metadata": {},
   "outputs": [],
   "source": []
  },
  {
   "cell_type": "code",
   "execution_count": null,
   "metadata": {},
   "outputs": [],
   "source": []
  },
  {
   "cell_type": "code",
   "execution_count": null,
   "metadata": {},
   "outputs": [],
   "source": []
  }
 ],
 "metadata": {
  "kernelspec": {
   "display_name": "Python 3",
   "language": "python",
   "name": "python3"
  },
  "language_info": {
   "codemirror_mode": {
    "name": "ipython",
    "version": 3
   },
   "file_extension": ".py",
   "mimetype": "text/x-python",
   "name": "python",
   "nbconvert_exporter": "python",
   "pygments_lexer": "ipython3",
   "version": "3.6.8"
  },
  "latex_envs": {
   "LaTeX_envs_menu_present": true,
   "autoclose": false,
   "autocomplete": true,
   "bibliofile": "biblio.bib",
   "cite_by": "apalike",
   "current_citInitial": 1,
   "eqLabelWithNumbers": true,
   "eqNumInitial": 1,
   "hotkeys": {
    "equation": "Ctrl-E",
    "itemize": "Ctrl-I"
   },
   "labels_anchors": false,
   "latex_user_defs": false,
   "report_style_numbering": false,
   "user_envs_cfg": false
  },
  "toc": {
   "base_numbering": 1,
   "nav_menu": {},
   "number_sections": true,
   "sideBar": true,
   "skip_h1_title": false,
   "title_cell": "Table of Contents",
   "title_sidebar": "Contents",
   "toc_cell": false,
   "toc_position": {},
   "toc_section_display": true,
   "toc_window_display": false
  }
 },
 "nbformat": 4,
 "nbformat_minor": 2
}
